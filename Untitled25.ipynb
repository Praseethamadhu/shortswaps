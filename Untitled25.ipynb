{
  "nbformat": 4,
  "nbformat_minor": 0,
  "metadata": {
    "colab": {
      "provenance": [],
      "authorship_tag": "ABX9TyPFEzBAv6YAeF+LSYj4B8bk",
      "include_colab_link": true
    },
    "kernelspec": {
      "name": "python3",
      "display_name": "Python 3"
    },
    "language_info": {
      "name": "python"
    }
  },
  "cells": [
    {
      "cell_type": "markdown",
      "metadata": {
        "id": "view-in-github",
        "colab_type": "text"
      },
      "source": [
        "<a href=\"https://colab.research.google.com/github/Praseethamadhu/shortswaps/blob/main/Untitled25.ipynb\" target=\"_parent\"><img src=\"https://colab.research.google.com/assets/colab-badge.svg\" alt=\"Open In Colab\"/></a>"
      ]
    },
    {
      "cell_type": "code",
      "execution_count": 1,
      "metadata": {
        "colab": {
          "base_uri": "https://localhost:8080/",
          "height": 371
        },
        "id": "otIKS5multTE",
        "outputId": "c916803c-44ea-41b8-d242-14bfed91771d"
      },
      "outputs": [
        {
          "output_type": "stream",
          "name": "stdout",
          "text": [
            "5\n",
            "[1, 4, 2, 0, 3]\n",
            "14\n"
          ]
        },
        {
          "output_type": "display_data",
          "data": {
            "text/plain": [
              "<Figure size 432x288 with 1 Axes>"
            ],
            "image/png": "[encoded data removed]"
          },
          "metadata": {}
        }
      ],
      "source": [
        "n=int(input())\n",
        "moves=[]\n",
        "id=[]\n",
        "for i in range(0,n-1):\n",
        "    moves.append([i,i+1])\n",
        "for i in range(0,n-2):\n",
        "    moves.append([i,i+2])\n",
        "for i in range(0,n):\n",
        "  id.append(i)\n",
        "from numpy import random\n",
        "import numpy as np\n",
        "y=np.random.permutation(n)\n",
        "r=list(y)\n",
        "print(r)\n",
        "f=[]\n",
        "import networkx as nx\n",
        "import matplotlib.pyplot as plt\n",
        "G = nx.Graph()\n",
        "if r!=id:\n",
        "  p=str(r)\n",
        "  G.add_node(p)\n",
        "  for j in moves:\n",
        "    t=r\n",
        "    t[j[0]],t[j[1]]=r[j[1]],r[j[0]]\n",
        "    f.append(t)\n",
        "    \n",
        "          \n",
        "         \n",
        "          \n",
        "    q=str(t)\n",
        "    G.add_node(q)\n",
        "    e=(p,q)\n",
        "    G.add_edge(*e)\n",
        "else:\n",
        "  p=str(r)\n",
        "  G.add_node(p)\n",
        "res = []\n",
        "for i in f:\n",
        "    if i not in res:\n",
        "        res.append(i)\n",
        "f=res\n",
        "g=f[0]\n",
        "if g!=id:\n",
        "  p=str(g)\n",
        "  G.add_node(p)\n",
        "  for j in moves:\n",
        "    t=g\n",
        "    t[j[0]],t[j[1]]=g[j[1]],g[j[0]]\n",
        "    \n",
        "    f.append(t)\n",
        "    q=str(t)\n",
        "    G.add_node(q)\n",
        "    e=(p,q)\n",
        "    G.add_edge(*e)\n",
        "          \n",
        "else:\n",
        "  p=str(g)\n",
        "  G.add_node(p)\n",
        "\n",
        " \n",
        "print(G.number_of_edges())\n",
        "nx.draw(G)\n",
        "\n"
      ]
    },
    {
      "cell_type": "code",
      "source": [],
      "metadata": {
        "id": "hvXJlypOl9Ql"
      },
      "execution_count": null,
      "outputs": []
    }
  ]
}